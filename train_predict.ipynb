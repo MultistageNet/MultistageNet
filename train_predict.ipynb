{
 "cells": [
  {
   "cell_type": "markdown",
   "metadata": {},
   "source": [
    "### Define configs (Hyper-parameters)"
   ]
  },
  {
   "cell_type": "code",
   "execution_count": 1,
   "metadata": {},
   "outputs": [],
   "source": [
    "import argparse\n",
    "\n",
    "parser = argparse.ArgumentParser()\n",
    "# Dataset\n",
    "parser.add_argument('--dataset', type=str, default='LiquidSugar', help='dataset name')\n",
    "parser.add_argument('--target', type=str, default='yield_flow', help='target')\n",
    "parser.add_argument('--task_type', type=str, default='forecasting', help='task type: forecasting or prediction')\n",
    "parser.add_argument('--collection_interval', type=int, default=15, help='Data collection interval (minutes)')\n",
    "parser.add_argument('--n_stage', type=int, default=3, help='number of stages')\n",
    "parser.add_argument('--seq_len', type=int, default=48, help='sequence length')\n",
    "parser.add_argument('--pred_len', type=int, default=1, help='prediction length')\n",
    "# Dataloader\n",
    "parser.add_argument('--batch_size', type=int, default=64, help='pretrain batch size')\n",
    "parser.add_argument('--n_workers', type=int, default=0, help='number of workers for DataLoader')\n",
    "# Train set\n",
    "parser.add_argument('--learning_rate', type=float, default=0.001, help='learning_rate')\n",
    "parser.add_argument('--n_epoch', type=int, default=100, help='train_epoch')\n",
    "parser.add_argument('--patience', type=int, default=10, help='early stopping patience')\n",
    "# Model\n",
    "parser.add_argument('--model_name', type=str, default='MultistageNet', help='model name')\n",
    "parser.add_argument('--d_model', type=int, default=64, help='d_model of variable dimension')\n",
    "parser.add_argument('--d_ff', type=int, default=256, help='feed foward dimension (d_model * 4)')\n",
    "parser.add_argument('--kernel_size', type=int, default=3, help='number of head in attention')\n",
    "parser.add_argument('--n_attention_heads', type=int, default=2, help='number of head in attention')\n",
    "parser.add_argument('--n_temporal_layers', type=int, default=3, help='number of stack in DepthwiseCausalConv')\n",
    "parser.add_argument('--n_multistage_layers', type=int, default=3, help='number of stack in Multistage Layer')\n",
    "parser.add_argument('--n_regressor_layers', type=int, default=3, help='number of stack in Regressor')\n",
    "parser.add_argument('--dropout_p', type=float, default=0.2, help='dropout rate')\n",
    "parser.add_argument('--activation', type=str, default='GELU', help='activation function')\n",
    "# Else\n",
    "parser.add_argument('--seed', type=int, default=3, help='set seed')\n",
    "parser.add_argument('--device_num', type=str, default='0', help='set gpu number')\n",
    "\n",
    "args = parser.parse_args(args=[])"
   ]
  },
  {
   "cell_type": "code",
   "execution_count": 2,
   "metadata": {},
   "outputs": [
    {
     "name": "stdout",
     "output_type": "stream",
     "text": [
      "{'dataset': 'LiquidSugar', 'target': 'yield_flow', 'task_type': 'forecasting', 'collection_interval': 15, 'n_stage': 3, 'seq_len': 48, 'pred_len': 1, 'batch_size': 64, 'n_workers': 0, 'learning_rate': 0.001, 'n_epoch': 100, 'patience': 10, 'model_name': 'MultistageNet', 'd_model': 64, 'd_ff': 256, 'kernel_size': 3, 'n_attention_heads': 2, 'n_temporal_layers': 3, 'n_multistage_layers': 3, 'n_regressor_layers': 3, 'dropout_p': 0.2, 'activation': 'GELU', 'seed': 3, 'device_num': '0'}\n"
     ]
    }
   ],
   "source": [
    "from utils.dotdict import dotdict\n",
    "configs = dotdict(vars(args))\n",
    "print(configs)"
   ]
  },
  {
   "cell_type": "markdown",
   "metadata": {},
   "source": [
    "### Define save-path"
   ]
  },
  {
   "cell_type": "code",
   "execution_count": 3,
   "metadata": {},
   "outputs": [],
   "source": [
    "log_path = 'save/log/train_log_{}_{}_{}_{}.txt'.format(configs.model_name, configs.dataset, configs.seed, configs.seq_len)\n",
    "model_save_path = 'save/model/{}_{}_{}_{}.pth'.format(configs.model_name, configs.dataset, configs.seed, configs.seq_len)\n",
    "result_path = 'save/result/{}_{}_{}_{}.csv'.format(configs.model_name, configs.dataset, configs.seed, configs.seq_len)"
   ]
  },
  {
   "cell_type": "markdown",
   "metadata": {},
   "source": [
    "### Load dataset"
   ]
  },
  {
   "cell_type": "code",
   "execution_count": 4,
   "metadata": {},
   "outputs": [],
   "source": [
    "from utils.set_seed import set_seed\n",
    "from utils.datautils import Load_liquidsugar_data\n",
    "\n",
    "set_seed(configs.seed)\n",
    "data, stage_vars, segment_index, slices, scaler = Load_liquidsugar_data(configs)"
   ]
  },
  {
   "cell_type": "code",
   "execution_count": null,
   "metadata": {},
   "outputs": [],
   "source": [
    "print(data.head())"
   ]
  },
  {
   "cell_type": "code",
   "execution_count": null,
   "metadata": {},
   "outputs": [],
   "source": [
    "print(stage_vars)"
   ]
  },
  {
   "cell_type": "markdown",
   "metadata": {},
   "source": [
    "### Get data-loader"
   ]
  },
  {
   "cell_type": "code",
   "execution_count": 5,
   "metadata": {},
   "outputs": [],
   "source": [
    "from utils.dataloader import get_dataloader\n",
    "\n",
    "set_seed(configs.seed)\n",
    "data_loader = {}\n",
    "data_loader['train'] = get_dataloader(data, configs, segment_index, slices, flag='train', shuffle = True, drop_last=True)\n",
    "data_loader['val'] = get_dataloader(data, configs, segment_index, slices, flag='val', shuffle = True, drop_last=True)\n",
    "data_loader['test'] = get_dataloader(data, configs, segment_index, slices, flag='test')"
   ]
  },
  {
   "cell_type": "markdown",
   "metadata": {},
   "source": [
    "### Define model"
   ]
  },
  {
   "cell_type": "code",
   "execution_count": 6,
   "metadata": {},
   "outputs": [],
   "source": [
    "from model.MultistageNet import MultistageNet\n",
    "\n",
    "model = MultistageNet(configs, stage_vars)"
   ]
  },
  {
   "cell_type": "markdown",
   "metadata": {},
   "source": [
    "### Model train"
   ]
  },
  {
   "cell_type": "code",
   "execution_count": 7,
   "metadata": {},
   "outputs": [
    {
     "name": "stdout",
     "output_type": "stream",
     "text": [
      "Epoch: 1/100 | Train loss: 0.2430 | Valid loss: 0.2912 | Patience: 0 | Time per epoch: 6.62 (sec)\n",
      "==> Find best valid at epoch 1 with valid loss of 0.2912\n",
      "Epoch: 2/100 | Train loss: 0.1796 | Valid loss: 0.2530 | Patience: 0 | Time per epoch: 6.23 (sec)\n",
      "==> Find best valid at epoch 2 with valid loss of 0.2530\n",
      "Epoch: 3/100 | Train loss: 0.1692 | Valid loss: 0.2068 | Patience: 0 | Time per epoch: 6.32 (sec)\n",
      "==> Find best valid at epoch 3 with valid loss of 0.2068\n",
      "Epoch: 4/100 | Train loss: 0.1706 | Valid loss: 0.2156 | Patience: 1 | Time per epoch: 6.28 (sec)\n",
      "Epoch: 5/100 | Train loss: 0.1663 | Valid loss: 0.2172 | Patience: 2 | Time per epoch: 6.13 (sec)\n",
      "Epoch: 6/100 | Train loss: 0.1631 | Valid loss: 0.2183 | Patience: 3 | Time per epoch: 6.27 (sec)\n",
      "Epoch: 7/100 | Train loss: 0.1619 | Valid loss: 0.2107 | Patience: 4 | Time per epoch: 6.37 (sec)\n",
      "Epoch: 8/100 | Train loss: 0.1605 | Valid loss: 0.2058 | Patience: 0 | Time per epoch: 6.26 (sec)\n",
      "==> Find best valid at epoch 8 with valid loss of 0.2058\n",
      "Epoch: 9/100 | Train loss: 0.1580 | Valid loss: 0.2075 | Patience: 1 | Time per epoch: 6.29 (sec)\n",
      "Epoch: 10/100 | Train loss: 0.1615 | Valid loss: 0.1957 | Patience: 0 | Time per epoch: 6.32 (sec)\n",
      "==> Find best valid at epoch 10 with valid loss of 0.1957\n",
      "Epoch: 11/100 | Train loss: 0.1581 | Valid loss: 0.2220 | Patience: 1 | Time per epoch: 6.33 (sec)\n",
      "Epoch: 12/100 | Train loss: 0.1567 | Valid loss: 0.1977 | Patience: 2 | Time per epoch: 6.38 (sec)\n",
      "Epoch: 13/100 | Train loss: 0.1549 | Valid loss: 0.2034 | Patience: 3 | Time per epoch: 6.18 (sec)\n",
      "Epoch: 14/100 | Train loss: 0.1515 | Valid loss: 0.2159 | Patience: 4 | Time per epoch: 6.19 (sec)\n",
      "Epoch: 15/100 | Train loss: 0.1507 | Valid loss: 0.2017 | Patience: 5 | Time per epoch: 5.97 (sec)\n",
      "Epoch: 16/100 | Train loss: 0.1499 | Valid loss: 0.2041 | Patience: 6 | Time per epoch: 6.22 (sec)\n",
      "Epoch: 17/100 | Train loss: 0.1498 | Valid loss: 0.2108 | Patience: 7 | Time per epoch: 6.24 (sec)\n",
      "Epoch: 18/100 | Train loss: 0.1457 | Valid loss: 0.2152 | Patience: 8 | Time per epoch: 6.34 (sec)\n",
      "Epoch: 19/100 | Train loss: 0.1475 | Valid loss: 0.2049 | Patience: 9 | Time per epoch: 6.26 (sec)\n",
      "Epoch: 20/100 | Train loss: 0.1447 | Valid loss: 0.2035 | Patience: 10 | Time per epoch: 6.02 (sec)\n",
      "Early stop!\n",
      "\n"
     ]
    }
   ],
   "source": [
    "import torch\n",
    "from utils.trainer import train\n",
    "\n",
    "set_seed(configs.seed)\n",
    "best_model, val_metric = train(model, data_loader, configs, log_path)\n",
    "torch.save(best_model, model_save_path)"
   ]
  },
  {
   "cell_type": "markdown",
   "metadata": {},
   "source": [
    "### Model test"
   ]
  },
  {
   "cell_type": "code",
   "execution_count": 8,
   "metadata": {},
   "outputs": [
    {
     "name": "stdout",
     "output_type": "stream",
     "text": [
      "MSE: 0.2453 | RMSE: 0.4953 | MAE: 0.2861\n"
     ]
    }
   ],
   "source": [
    "from utils.trainer import test\n",
    "\n",
    "model.load_state_dict(best_model)\n",
    "test_metric = test(model, data_loader, configs)\n",
    "print('MSE: {} | RMSE: {} | MAE: {}'.format(test_metric[0], test_metric[1], test_metric[2]))"
   ]
  },
  {
   "cell_type": "markdown",
   "metadata": {},
   "source": [
    "### Save results"
   ]
  },
  {
   "cell_type": "code",
   "execution_count": 9,
   "metadata": {},
   "outputs": [],
   "source": [
    "from utils.write_results import write_results\n",
    "results = {\n",
    "    'val_loss': val_metric[0],\n",
    "    'test_mse': test_metric[0],\n",
    "    'test_rmse': test_metric[1],\n",
    "    'test_mae': test_metric[2]\n",
    "}\n",
    "\n",
    "# write result\n",
    "write_results(result_path, results, configs)"
   ]
  }
 ],
 "metadata": {
  "kernelspec": {
   "display_name": "MultistageNet",
   "language": "python",
   "name": "python3"
  },
  "language_info": {
   "codemirror_mode": {
    "name": "ipython",
    "version": 3
   },
   "file_extension": ".py",
   "mimetype": "text/x-python",
   "name": "python",
   "nbconvert_exporter": "python",
   "pygments_lexer": "ipython3",
   "version": "3.9.13"
  }
 },
 "nbformat": 4,
 "nbformat_minor": 2
}
